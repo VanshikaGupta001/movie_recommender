{
  "nbformat": 4,
  "nbformat_minor": 0,
  "metadata": {
    "colab": {
      "provenance": []
    },
    "kernelspec": {
      "name": "python3",
      "display_name": "Python 3"
    },
    "language_info": {
      "name": "python"
    }
  },
  "cells": [
    {
      "cell_type": "code",
      "source": [
        "!pip install -qU \\\n",
        "  pinecone-client==3.1.0\n",
        "\n",
        "!pip install datasets surprise\n",
        "\n",
        "from datasets import load_dataset\n",
        "import pandas as pd\n",
        "from surprise import Dataset, Reader, SVD\n",
        "from surprise.model_selection import train_test_split\n",
        "from surprise import accuracy\n",
        "from surprise.model_selection import cross_validate\n",
        "from pinecone import Pinecone\n",
        "import numpy as np\n",
        "import os\n",
        "from IPython.core.display import HTML\n",
        "from pinecone import ServerlessSpec"
      ],
      "metadata": {
        "colab": {
          "base_uri": "https://localhost:8080/"
        },
        "id": "Wv7hHGrCnTHM",
        "outputId": "bbc57b7a-a595-45d2-bdcc-3ed2bfb9af7f"
      },
      "execution_count": 37,
      "outputs": [
        {
          "output_type": "stream",
          "name": "stdout",
          "text": [
            "Requirement already satisfied: datasets in /usr/local/lib/python3.11/dist-packages (3.2.0)\n",
            "Requirement already satisfied: surprise in /usr/local/lib/python3.11/dist-packages (0.1)\n",
            "Requirement already satisfied: filelock in /usr/local/lib/python3.11/dist-packages (from datasets) (3.17.0)\n",
            "Requirement already satisfied: numpy>=1.17 in /usr/local/lib/python3.11/dist-packages (from datasets) (1.26.4)\n",
            "Requirement already satisfied: pyarrow>=15.0.0 in /usr/local/lib/python3.11/dist-packages (from datasets) (17.0.0)\n",
            "Requirement already satisfied: dill<0.3.9,>=0.3.0 in /usr/local/lib/python3.11/dist-packages (from datasets) (0.3.8)\n",
            "Requirement already satisfied: pandas in /usr/local/lib/python3.11/dist-packages (from datasets) (2.0.3)\n",
            "Requirement already satisfied: requests>=2.32.2 in /usr/local/lib/python3.11/dist-packages (from datasets) (2.32.3)\n",
            "Requirement already satisfied: tqdm>=4.66.3 in /usr/local/lib/python3.11/dist-packages (from datasets) (4.67.1)\n",
            "Requirement already satisfied: xxhash in /usr/local/lib/python3.11/dist-packages (from datasets) (3.5.0)\n",
            "Requirement already satisfied: multiprocess<0.70.17 in /usr/local/lib/python3.11/dist-packages (from datasets) (0.70.16)\n",
            "Requirement already satisfied: fsspec<=2024.9.0,>=2023.1.0 in /usr/local/lib/python3.11/dist-packages (from fsspec[http]<=2024.9.0,>=2023.1.0->datasets) (2024.9.0)\n",
            "Requirement already satisfied: aiohttp in /usr/local/lib/python3.11/dist-packages (from datasets) (3.11.11)\n",
            "Requirement already satisfied: huggingface-hub>=0.23.0 in /usr/local/lib/python3.11/dist-packages (from datasets) (0.28.1)\n",
            "Requirement already satisfied: packaging in /usr/local/lib/python3.11/dist-packages (from datasets) (24.2)\n",
            "Requirement already satisfied: pyyaml>=5.1 in /usr/local/lib/python3.11/dist-packages (from datasets) (6.0.2)\n",
            "Requirement already satisfied: scikit-surprise in /usr/local/lib/python3.11/dist-packages (from surprise) (1.1.4)\n",
            "Requirement already satisfied: aiohappyeyeballs>=2.3.0 in /usr/local/lib/python3.11/dist-packages (from aiohttp->datasets) (2.4.4)\n",
            "Requirement already satisfied: aiosignal>=1.1.2 in /usr/local/lib/python3.11/dist-packages (from aiohttp->datasets) (1.3.2)\n",
            "Requirement already satisfied: attrs>=17.3.0 in /usr/local/lib/python3.11/dist-packages (from aiohttp->datasets) (25.1.0)\n",
            "Requirement already satisfied: frozenlist>=1.1.1 in /usr/local/lib/python3.11/dist-packages (from aiohttp->datasets) (1.5.0)\n",
            "Requirement already satisfied: multidict<7.0,>=4.5 in /usr/local/lib/python3.11/dist-packages (from aiohttp->datasets) (6.1.0)\n",
            "Requirement already satisfied: propcache>=0.2.0 in /usr/local/lib/python3.11/dist-packages (from aiohttp->datasets) (0.2.1)\n",
            "Requirement already satisfied: yarl<2.0,>=1.17.0 in /usr/local/lib/python3.11/dist-packages (from aiohttp->datasets) (1.18.3)\n",
            "Requirement already satisfied: typing-extensions>=3.7.4.3 in /usr/local/lib/python3.11/dist-packages (from huggingface-hub>=0.23.0->datasets) (4.12.2)\n",
            "Requirement already satisfied: charset-normalizer<4,>=2 in /usr/local/lib/python3.11/dist-packages (from requests>=2.32.2->datasets) (3.4.1)\n",
            "Requirement already satisfied: idna<4,>=2.5 in /usr/local/lib/python3.11/dist-packages (from requests>=2.32.2->datasets) (3.10)\n",
            "Requirement already satisfied: urllib3<3,>=1.21.1 in /usr/local/lib/python3.11/dist-packages (from requests>=2.32.2->datasets) (2.3.0)\n",
            "Requirement already satisfied: certifi>=2017.4.17 in /usr/local/lib/python3.11/dist-packages (from requests>=2.32.2->datasets) (2025.1.31)\n",
            "Requirement already satisfied: python-dateutil>=2.8.2 in /usr/local/lib/python3.11/dist-packages (from pandas->datasets) (2.8.2)\n",
            "Requirement already satisfied: pytz>=2020.1 in /usr/local/lib/python3.11/dist-packages (from pandas->datasets) (2025.1)\n",
            "Requirement already satisfied: tzdata>=2022.1 in /usr/local/lib/python3.11/dist-packages (from pandas->datasets) (2025.1)\n",
            "Requirement already satisfied: joblib>=1.2.0 in /usr/local/lib/python3.11/dist-packages (from scikit-surprise->surprise) (1.4.2)\n",
            "Requirement already satisfied: scipy>=1.6.0 in /usr/local/lib/python3.11/dist-packages (from scikit-surprise->surprise) (1.13.1)\n",
            "Requirement already satisfied: six>=1.5 in /usr/local/lib/python3.11/dist-packages (from python-dateutil>=2.8.2->pandas->datasets) (1.17.0)\n"
          ]
        }
      ]
    },
    {
      "cell_type": "code",
      "source": [
        "# Load dataset\n",
        "movies = load_dataset(\"pinecone/movielens-recent-ratings\", split=\"train\").to_pandas()\n",
        "\n",
        "# Drop duplicates to get unique movies\n",
        "unique_movies = movies.drop_duplicates(subset=\"imdb_id\")\n",
        "\n",
        "reader = Reader(rating_scale=(0, 5))\n",
        "data = Dataset.load_from_df(movies[['user_id', 'movie_id', 'rating']], reader)\n",
        "\n",
        "trainset, testset = train_test_split(data, test_size=0.2)\n",
        "\n",
        "# Use SVD (Singular Value Decomposition) for Collaborative Filtering\n",
        "model = SVD()\n",
        "model.fit(trainset)\n",
        "\n",
        "predictions = model.test(testset)\n",
        "print(f\"RMSE: {accuracy.rmse(predictions)}\")"
      ],
      "metadata": {
        "colab": {
          "base_uri": "https://localhost:8080/"
        },
        "id": "uRJ7pX1Aq58L",
        "outputId": "f6f4cb73-7d31-4152-a171-2be420bb4dd3"
      },
      "execution_count": 38,
      "outputs": [
        {
          "output_type": "stream",
          "name": "stdout",
          "text": [
            "RMSE: 0.8368\n",
            "RMSE: 0.836785213431494\n"
          ]
        }
      ]
    },
    {
      "cell_type": "code",
      "source": [
        "api_key = 'pcsk_3fKTan_ESTW4A32S4NTwEfiRGuHerLicL2vKRnJvXxDZhjMP9iWqG3iZ5GMg6wXB8QbtJK'\n",
        "pc = Pinecone(api_key=api_key)\n",
        "\n",
        "cloud = 'aws'\n",
        "region = 'us-east-1'\n",
        "spec = ServerlessSpec(cloud=cloud, region=region)\n",
        "\n",
        "index_name = 'movie-emb'\n",
        "\n",
        "# Delete the index, if of the same name already exists\n",
        "if index_name in pc.list_indexes().names():\n",
        "    pc.delete_index(index_name)\n",
        "\n",
        "import time\n",
        "\n",
        "dimensions = 1\n",
        "pc.create_index(\n",
        "    name=index_name,\n",
        "    dimension=dimensions,\n",
        "    metric=\"cosine\",\n",
        "    spec=spec\n",
        ")\n",
        "\n",
        "while not pc.describe_index(index_name).status['ready']:\n",
        "    time.sleep(1)\n",
        "\n",
        "index = pc.Index(index_name)\n",
        "\n",
        "# Store movie embeddings (predicted ratings)\n",
        "batch_size = 64\n",
        "for i in range(0, len(unique_movies), batch_size):\n",
        "    batch = unique_movies.iloc[i:i+batch_size]\n",
        "    embeddings = np.array([model.predict(uid=0, iid=mid).est for mid in batch['movie_id']]).reshape(-1, 1).tolist()\n",
        "    metadata = batch.to_dict(orient='records')\n",
        "    ids = batch[\"imdb_id\"].values.tolist()\n",
        "    to_upsert = list(zip(ids, embeddings, metadata))\n",
        "    index.upsert(vectors=to_upsert)"
      ],
      "metadata": {
        "id": "99EL3dVjuRz5"
      },
      "execution_count": 39,
      "outputs": []
    },
    {
      "cell_type": "code",
      "source": [
        "movie_titles = dict(zip(unique_movies['movie_id'], unique_movies['title']))\n",
        "\n",
        "def get_movie_id(movie_name):\n",
        "    \"\"\"Find the movie ID for a given movie title\"\"\"\n",
        "    movie_row = unique_movies[unique_movies['title'].str.contains(movie_name, case=False, na=False)]\n",
        "\n",
        "    if movie_row.empty:\n",
        "        print(\"Movie not found! Please check the name and try again.\")\n",
        "        return None, None\n",
        "\n",
        "    return movie_row.iloc[0]['movie_id'], movie_row.iloc[0]['poster']\n",
        "\n",
        "def get_recommendations(movie_name, top_n=10):\n",
        "    \"\"\"Get similar movies using SVD Collaborative Filtering and return their posters\"\"\"\n",
        "    movie_id, input_movie_poster = get_movie_id(movie_name)\n",
        "\n",
        "    if movie_id is None:\n",
        "        return None, [], []\n",
        "\n",
        "    # Get users who rated this movie\n",
        "    users_who_rated = movies[movies['movie_id'] == movie_id]['user_id'].unique()\n",
        "\n",
        "    predictions = []\n",
        "    for user in users_who_rated[:500]:  # Limit to 500 users for efficiency\n",
        "        for other_movie_id in movies['movie_id'].unique():\n",
        "            if other_movie_id != movie_id:  # Don't recommend the same movie\n",
        "                pred = model.predict(user, other_movie_id)\n",
        "                predictions.append((other_movie_id, pred.est))\n",
        "\n",
        "    # Sort predictions by highest estimated rating\n",
        "    predictions.sort(key=lambda x: x[1], reverse=True)\n",
        "\n",
        "    recommended_movies = []\n",
        "    posters = []\n",
        "\n",
        "    for movie_id, _ in predictions[:top_n]:\n",
        "        if movie_id in movie_metadata:\n",
        "            recommended_movies.append(movie_metadata[movie_id][\"title\"])\n",
        "            posters.append(movie_metadata[movie_id][\"poster\"])\n",
        "\n",
        "    return input_movie_poster, recommended_movies, posters\n",
        "\n",
        "def display_posters(input_movie_poster, posters, titles, input_movie_name):\n",
        "    \"\"\"Displays the input movie poster above recommended movies in a grid\"\"\"\n",
        "    html = f'''\n",
        "        <div style=\"text-align: center; margin-bottom: 20px;\">\n",
        "            <h3>Movie You Searched: {input_movie_name}</h3>\n",
        "            <img src=\"{input_movie_poster}\" style=\"width: 150px; height: 200px; border-radius: 10px;\">\n",
        "        </div>\n",
        "    '''\n",
        "\n",
        "    figures = []\n",
        "    for title, poster in zip(titles, posters):\n",
        "        figures.append(f'''\n",
        "            <figure style=\"margin: 5px !important; text-align: center;\">\n",
        "              <img src=\"{poster}\" style=\"width: 120px; height: 150px; border-radius: 10px;\">\n",
        "              <figcaption style=\"font-size: 12px;\">{title}</figcaption>\n",
        "            </figure>\n",
        "        ''')\n",
        "\n",
        "    html += f'''\n",
        "        <h3>Recommended Movies</h3>\n",
        "        <div style=\"display: flex; flex-flow: row wrap; text-align: center;\">\n",
        "        {''.join(figures)}\n",
        "        </div>\n",
        "    '''\n",
        "\n",
        "    display(HTML(html))\n",
        "\n",
        "# Get movie name from user input\n",
        "movie_name = input(\"Enter the movie name: \")\n",
        "input_movie_poster, recommended_movies, posters = get_recommendations(movie_name)\n",
        "\n",
        "if recommended_movies:\n",
        "    display_posters(input_movie_poster, posters, recommended_movies, movie_name)\n",
        "else:\n",
        "    print(\"No recommendations found.\")"
      ],
      "metadata": {
        "colab": {
          "base_uri": "https://localhost:8080/",
          "height": 503
        },
        "id": "RjW_NxjJw06S",
        "outputId": "283c023e-fb03-4e95-b123-b1bc8949564d"
      },
      "execution_count": 42,
      "outputs": [
        {
          "name": "stdout",
          "output_type": "stream",
          "text": [
            "Enter the movie name: incredibles\n"
          ]
        },
        {
          "output_type": "display_data",
          "data": {
            "text/plain": [
              "<IPython.core.display.HTML object>"
            ],
            "text/html": [
              "\n",
              "        <div style=\"text-align: center; margin-bottom: 20px;\">\n",
              "            <h3>Movie You Searched: incredibles</h3>\n",
              "            <img src=\"https://m.media-amazon.com/images/M/MV5BMTEzNzY0OTg0NTdeQTJeQWpwZ15BbWU4MDU3OTg3MjUz._V1_SX300.jpg\" style=\"width: 150px; height: 200px; border-radius: 10px;\">\n",
              "        </div>\n",
              "    \n",
              "        <h3>Recommended Movies</h3>\n",
              "        <div style=\"display: flex; flex-flow: row wrap; text-align: center;\">\n",
              "        \n",
              "            <figure style=\"margin: 5px !important; text-align: center;\">\n",
              "              <img src=\"https://m.media-amazon.com/images/M/MV5BMzM5NjUxOTEyMl5BMl5BanBnXkFtZTgwNjEyMDM0MDE@._V1_SX300.jpg\" style=\"width: 120px; height: 150px; border-radius: 10px;\">\n",
              "              <figcaption style=\"font-size: 12px;\">Grand Budapest Hotel, The (2014)</figcaption>\n",
              "            </figure>\n",
              "        \n",
              "            <figure style=\"margin: 5px !important; text-align: center;\">\n",
              "              <img src=\"https://m.media-amazon.com/images/M/MV5BMTAwMTU4MDA3NDNeQTJeQWpwZ15BbWU4MDk4NTMxNTIx._V1_SX300.jpg\" style=\"width: 120px; height: 150px; border-radius: 10px;\">\n",
              "              <figcaption style=\"font-size: 12px;\">The Theory of Everything (2014)</figcaption>\n",
              "            </figure>\n",
              "        \n",
              "            <figure style=\"margin: 5px !important; text-align: center;\">\n",
              "              <img src=\"https://m.media-amazon.com/images/M/MV5BNjRhOGY5ZmMtYWE5ZC00ZDA2LTk3NDItN2FlOGE5MjQwMjVkXkEyXkFqcGdeQXVyNTA4NzY1MzY@._V1_SX300.jpg\" style=\"width: 120px; height: 150px; border-radius: 10px;\">\n",
              "              <figcaption style=\"font-size: 12px;\">Horace and Pete (2016)</figcaption>\n",
              "            </figure>\n",
              "        \n",
              "            <figure style=\"margin: 5px !important; text-align: center;\">\n",
              "              <img src=\"https://m.media-amazon.com/images/M/MV5BMTg2NDg3ODg4NF5BMl5BanBnXkFtZTcwNzk3NTc3Nw@@._V1_SX300.jpg\" style=\"width: 120px; height: 150px; border-radius: 10px;\">\n",
              "              <figcaption style=\"font-size: 12px;\">Hunt, The (Jagten) (2012)</figcaption>\n",
              "            </figure>\n",
              "        \n",
              "            <figure style=\"margin: 5px !important; text-align: center;\">\n",
              "              <img src=\"https://m.media-amazon.com/images/M/MV5BMjE4NzgzNzEwMl5BMl5BanBnXkFtZTgwMTMzMDE0NjE@._V1_SX300.jpg\" style=\"width: 120px; height: 150px; border-radius: 10px;\">\n",
              "              <figcaption style=\"font-size: 12px;\">Room (2015)</figcaption>\n",
              "            </figure>\n",
              "        \n",
              "            <figure style=\"margin: 5px !important; text-align: center;\">\n",
              "              <img src=\"https://m.media-amazon.com/images/M/MV5BMzUzNDM2NzM2MV5BMl5BanBnXkFtZTgwNTM3NTg4OTE@._V1_SX300.jpg\" style=\"width: 120px; height: 150px; border-radius: 10px;\">\n",
              "              <figcaption style=\"font-size: 12px;\">La La Land (2016)</figcaption>\n",
              "            </figure>\n",
              "        \n",
              "            <figure style=\"margin: 5px !important; text-align: center;\">\n",
              "              <img src=\"https://m.media-amazon.com/images/M/MV5BNGQzY2Y0MTgtMDA4OC00NjM3LWI0ZGQtNTJlM2UxZDQxZjI0XkEyXkFqcGdeQXVyNDUzOTQ5MjY@._V1_SX300.jpg\" style=\"width: 120px; height: 150px; border-radius: 10px;\">\n",
              "              <figcaption style=\"font-size: 12px;\">Wild Tales (2014)</figcaption>\n",
              "            </figure>\n",
              "        \n",
              "            <figure style=\"margin: 5px !important; text-align: center;\">\n",
              "              <img src=\"https://m.media-amazon.com/images/M/MV5BOTA5NDZlZGUtMjAxOS00YTRkLTkwYmMtYWQ0NWEwZDZiNjEzXkEyXkFqcGdeQXVyMTMxODk2OTU@._V1_SX300.jpg\" style=\"width: 120px; height: 150px; border-radius: 10px;\">\n",
              "              <figcaption style=\"font-size: 12px;\">Whiplash (2014)</figcaption>\n",
              "            </figure>\n",
              "        \n",
              "            <figure style=\"margin: 5px !important; text-align: center;\">\n",
              "              <img src=\"https://m.media-amazon.com/images/M/MV5BOTJmOTc4MWUtYWUzZC00NGU5LWIxYTgtMjEzY2VlODdhZjdkXkEyXkFqcGdeQXVyNDExODQzNDA@._V1_SX300.jpg\" style=\"width: 120px; height: 150px; border-radius: 10px;\">\n",
              "              <figcaption style=\"font-size: 12px;\">The Fool (2014)</figcaption>\n",
              "            </figure>\n",
              "        \n",
              "            <figure style=\"margin: 5px !important; text-align: center;\">\n",
              "              <img src=\"https://m.media-amazon.com/images/M/MV5BYWZjMjk3ZTItODQ2ZC00NTY5LWE0ZDYtZTI3MjcwN2Q5NTVkXkEyXkFqcGdeQXVyODk4OTc3MTY@._V1_SX300.jpg\" style=\"width: 120px; height: 150px; border-radius: 10px;\">\n",
              "              <figcaption style=\"font-size: 12px;\">Parasite (2019)</figcaption>\n",
              "            </figure>\n",
              "        \n",
              "        </div>\n",
              "    "
            ]
          },
          "metadata": {}
        }
      ]
    }
  ]
}